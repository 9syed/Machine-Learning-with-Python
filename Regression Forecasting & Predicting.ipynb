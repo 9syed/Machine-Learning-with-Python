{
 "cells": [
  {
   "cell_type": "code",
   "execution_count": 14,
   "id": "79d062b1",
   "metadata": {},
   "outputs": [],
   "source": [
    "import pandas as pd\n",
    "import quandl, math, datetime\n",
    "import numpy as np\n",
    "import matplotlib.pyplot as plt\n",
    "from matplotlib import style"
   ]
  },
  {
   "cell_type": "code",
   "execution_count": 15,
   "id": "50e1ff70",
   "metadata": {},
   "outputs": [],
   "source": [
    "from sklearn.model_selection import train_test_split\n",
    "from sklearn import preprocessing, svm\n",
    "from sklearn.linear_model import LinearRegression"
   ]
  },
  {
   "cell_type": "code",
   "execution_count": 16,
   "id": "fcf3a907",
   "metadata": {},
   "outputs": [],
   "source": [
    "style.use('ggplot')"
   ]
  },
  {
   "cell_type": "code",
   "execution_count": 2,
   "id": "534977d8",
   "metadata": {},
   "outputs": [],
   "source": [
    "df = quandl.get(\"WIKI/GOOGL\")"
   ]
  },
  {
   "cell_type": "code",
   "execution_count": 3,
   "id": "7f294dea",
   "metadata": {
    "scrolled": false
   },
   "outputs": [
    {
     "name": "stdout",
     "output_type": "stream",
     "text": [
      "              Open    High     Low    Close      Volume  Ex-Dividend  \\\n",
      "Date                                                                   \n",
      "2004-08-19  100.01  104.06   95.96  100.335  44659000.0          0.0   \n",
      "2004-08-20  101.01  109.08  100.50  108.310  22834300.0          0.0   \n",
      "2004-08-23  110.76  113.48  109.05  109.400  18256100.0          0.0   \n",
      "2004-08-24  111.24  111.60  103.57  104.870  15247300.0          0.0   \n",
      "2004-08-25  104.76  108.00  103.88  106.000   9188600.0          0.0   \n",
      "\n",
      "            Split Ratio  Adj. Open  Adj. High   Adj. Low  Adj. Close  \\\n",
      "Date                                                                   \n",
      "2004-08-19          1.0  50.159839  52.191109  48.128568   50.322842   \n",
      "2004-08-20          1.0  50.661387  54.708881  50.405597   54.322689   \n",
      "2004-08-23          1.0  55.551482  56.915693  54.693835   54.869377   \n",
      "2004-08-24          1.0  55.792225  55.972783  51.945350   52.597363   \n",
      "2004-08-25          1.0  52.542193  54.167209  52.100830   53.164113   \n",
      "\n",
      "            Adj. Volume  \n",
      "Date                     \n",
      "2004-08-19   44659000.0  \n",
      "2004-08-20   22834300.0  \n",
      "2004-08-23   18256100.0  \n",
      "2004-08-24   15247300.0  \n",
      "2004-08-25    9188600.0  \n"
     ]
    }
   ],
   "source": [
    "print(df.head())"
   ]
  },
  {
   "cell_type": "code",
   "execution_count": 4,
   "id": "25b6db91",
   "metadata": {},
   "outputs": [],
   "source": [
    "df = df[['Adj. Open',  'Adj. High',  'Adj. Low',  'Adj. Close', 'Adj. Volume']]\n",
    "\n",
    "df['HL_PCT'] = (df['Adj. High'] - df['Adj. Low']) / df['Adj. Close'] * 100.0\n",
    "\n",
    "df['PCT_change'] = (df['Adj. Close'] - df['Adj. Open']) / df['Adj. Open'] * 100.0\n",
    "\n",
    "df = df[['Adj. Close', 'HL_PCT', 'PCT_change', 'Adj. Volume']]"
   ]
  },
  {
   "cell_type": "code",
   "execution_count": 5,
   "id": "95a9fc0c",
   "metadata": {
    "scrolled": false
   },
   "outputs": [
    {
     "name": "stdout",
     "output_type": "stream",
     "text": [
      "            Adj. Close    HL_PCT  PCT_change  Adj. Volume\n",
      "Date                                                     \n",
      "2004-08-19   50.322842  8.072956    0.324968   44659000.0\n",
      "2004-08-20   54.322689  7.921706    7.227007   22834300.0\n",
      "2004-08-23   54.869377  4.049360   -1.227880   18256100.0\n",
      "2004-08-24   52.597363  7.657099   -5.726357   15247300.0\n",
      "2004-08-25   53.164113  3.886792    1.183658    9188600.0\n"
     ]
    }
   ],
   "source": [
    "print(df.head())"
   ]
  },
  {
   "cell_type": "code",
   "execution_count": 6,
   "id": "ccb66c7c",
   "metadata": {},
   "outputs": [],
   "source": [
    "forecast_col = 'Adj. Close'\n",
    "df.fillna(-99999, inplace=True)"
   ]
  },
  {
   "cell_type": "code",
   "execution_count": 7,
   "id": "4384dbcc",
   "metadata": {},
   "outputs": [],
   "source": [
    "forecast_out = int(math.ceil(0.1*len(df)))\n",
    "df['label'] = df[forecast_col].shift(-forecast_out)"
   ]
  },
  {
   "cell_type": "code",
   "execution_count": 8,
   "id": "aa8038a9",
   "metadata": {},
   "outputs": [
    {
     "name": "stderr",
     "output_type": "stream",
     "text": [
      "C:\\Users\\9syed\\AppData\\Local\\Temp\\ipykernel_12096\\3881897463.py:1: FutureWarning: In a future version of pandas all arguments of DataFrame.drop except for the argument 'labels' will be keyword-only.\n",
      "  X = np.array(df.drop(['label'], 1))\n"
     ]
    }
   ],
   "source": [
    "X = np.array(df.drop(['label'], 1))\n",
    "X = preprocessing.scale(X)\n",
    "X = X[:-forecast_out]\n",
    "X_lately = X[-forecast_out:]"
   ]
  },
  {
   "cell_type": "code",
   "execution_count": 9,
   "id": "4aa676bc",
   "metadata": {},
   "outputs": [],
   "source": [
    "df.dropna(inplace=True)\n",
    "y = np.array(df['label'])"
   ]
  },
  {
   "cell_type": "code",
   "execution_count": 10,
   "id": "aa310bf4",
   "metadata": {},
   "outputs": [],
   "source": [
    "X_train, X_test, y_train, y_test = train_test_split(X, y, test_size=0.2)\n",
    "\n",
    "clf = LinearRegression(n_jobs=-1)\n",
    "clf.fit(X_train, y_train)\n",
    "accuracy = clf.score(X_test, y_test)"
   ]
  },
  {
   "cell_type": "code",
   "execution_count": 11,
   "id": "aa120506",
   "metadata": {},
   "outputs": [
    {
     "name": "stdout",
     "output_type": "stream",
     "text": [
      "0.8906995542135409\n"
     ]
    }
   ],
   "source": [
    "print(accuracy)"
   ]
  },
  {
   "cell_type": "code",
   "execution_count": 17,
   "id": "7f408f44",
   "metadata": {},
   "outputs": [],
   "source": [
    "forecast_set = clf.predict(X_lately)\n",
    "df['Forecast'] = np.nan"
   ]
  },
  {
   "cell_type": "code",
   "execution_count": 18,
   "id": "232ccf70",
   "metadata": {
    "scrolled": false
   },
   "outputs": [
    {
     "name": "stdout",
     "output_type": "stream",
     "text": [
      "[ 694.68802341  679.09200527  679.00917934  696.76083526  725.09764953\n",
      "  739.8834309   732.06302252  760.65208043  880.59060405  869.91386261\n",
      "  880.1601125   879.0317695   856.29072175  831.78995821  829.88051617\n",
      "  826.99429741  828.9270665   839.32786206  820.90163344  832.2968823\n",
      "  825.95997957  848.01138307  842.77640894  832.20553844  831.81881473\n",
      "  869.12810694  869.3467113   860.78762672  862.82435668  871.1239779\n",
      "  862.53122995  871.33009177  859.80428183  823.62550598  818.60638659\n",
      "  792.8485518   848.37449578  848.34661201  829.22773701  819.67382735\n",
      "  798.81605207  813.5137452   806.02263633  786.43097636  809.47613442\n",
      "  812.53016522  820.25836868  819.28895393  813.84325343  839.36281503\n",
      "  829.7090494   847.94805378  825.57630718  836.29188014  821.23335166\n",
      "  818.4755058   825.75464841  810.09369257  797.98797899  787.99022641\n",
      "  798.83293708  807.74774457  839.51144958  849.08170796  846.68344498\n",
      "  848.94392372  842.61708195  842.75279202  848.61246574  860.84453653\n",
      "  852.83106166  866.91975492  867.03871219  874.36882242  863.57478276\n",
      "  844.80953721  856.87099023  916.22419239  918.5256965   917.81307312\n",
      "  920.99231182  932.56885483  920.39884944  940.75278189  936.08068163\n",
      "  944.03735706  948.51848879  949.46563384  946.24123799  949.54899823\n",
      "  954.7831411   944.5237445   928.5473698   944.10093505  932.13080519\n",
      "  953.14433864  945.74889681  974.07054635  968.9802591   967.09876463\n",
      "  957.6731413   962.28275143  955.58617987  987.08697337  975.75689287\n",
      "  968.77636844  978.66348981  968.27723402  974.0178507   963.81742831\n",
      "  949.99942643  935.95548406  968.23280204  954.10549229  982.04953153\n",
      "  962.36111991  949.80548365  951.92885711  957.18958989  963.40666142\n",
      "  952.60606906  981.84532301  993.16046725  985.64614521  971.51748343\n",
      "  950.86625247  953.51209997  955.27513605  933.4079888   922.2661777\n",
      "  920.62597103  932.66165959  921.85323355  937.0386256   898.77747732\n",
      "  903.54112655  924.98250896  923.6583321   929.15013735  924.94476524\n",
      "  919.45471941  907.47652854  943.88992412  959.48923822  964.05290768\n",
      "  985.92156781  970.49458334  919.89767659  891.30242539  891.59989482\n",
      "  897.21347467  890.09442182  893.5998473   887.46573871  899.36222813\n",
      "  921.18596452  905.3697024   904.05048921  912.37855353  900.91327815\n",
      "  910.69863477  917.63174146  909.11602244  899.59032626  940.26796383\n",
      "  923.55727621  914.78630114  911.07189956  900.8112823   899.82397708\n",
      "  910.68952117  917.93570191  929.23824475  938.17590021  938.28311789\n",
      "  949.00361346  944.98994663  942.30287121  954.49651381  947.29885482\n",
      "  945.64248269  940.53563809  937.90413743  964.91613754  958.81661946\n",
      "  953.15771647  966.30685508  956.06119492  945.41561995  962.06885044\n",
      "  951.04852985  949.8197328   945.59905862  958.19848396  964.81143856\n",
      "  965.13624353  970.52681502  984.40530045  977.11318837  965.69516456\n",
      "  971.79870818  928.92040593  926.89283866  918.8706793   907.82936348\n",
      "  894.91087283  882.82791128  892.64672638  881.67531577  890.93835144\n",
      "  892.0808895   911.03000853  912.0839687   922.78510728  915.337887\n",
      "  911.16707089  904.29131939  916.31936325  907.19633227  903.20600039\n",
      "  894.59448503  905.19831348  893.77509109  921.18451944  920.10922288\n",
      "  919.52947085  935.47226958  933.16230642  932.93236633  930.04552228\n",
      "  917.39561605  912.2997309   910.22368625  926.76111694  926.4766345\n",
      "  915.5599881   914.62547516  916.58017394  911.52401732  909.20363619\n",
      "  887.37662293  882.79954043  887.38841992  886.89755257  898.28420062\n",
      "  864.40732638  852.05844493  862.73075541  866.31937983  878.97619195\n",
      "  887.6322885   880.99043044  891.52521195  884.54566371  898.00502866\n",
      "  909.88049231  914.11675995  908.72035663  916.1049322   915.60742424\n",
      "  949.57296495  939.76409947  943.24322211  939.78057535  946.1355862\n",
      "  942.85382193  943.60638679  950.51938963  954.05052972  987.22719998\n",
      " 1009.66952151  996.29146347  994.2257236   992.11830117 1006.48826517\n",
      " 1001.48685114 1006.9888011  1004.64106313 1006.66506482 1002.20495421\n",
      " 1003.85578656  997.73969401 1005.20530442  999.06236702  993.41671657\n",
      "  990.79747587  990.17422329  988.51029716  985.75038454  990.33379523\n",
      "  992.56791889  987.43526916  981.43681664  984.97156206  989.43960064\n",
      " 1012.99441936 1005.83869432  999.77392414  986.41898541 1003.26025825\n",
      "  985.15517246  985.99240034 1004.8290846   991.20229567  993.04938861\n",
      "  993.76191291 1004.81242216 1019.17841532 1011.92149053 1000.85023975\n",
      " 1013.63048439 1008.95031738 1004.0668704  1000.27912749  996.37229022\n",
      "  999.14558486  997.93296645  999.39733683  998.45981308 1020.74885115\n",
      " 1011.69521259 1009.90933813 1001.58935344 1002.27966432 1006.94033485\n",
      " 1028.99349214 1028.90187372 1022.85466848 1024.63427871 1041.67892985\n",
      " 1035.02094213 1025.98495833 1019.48033674 1028.97410429 1012.90877665\n",
      " 1008.76447834  992.42689888  976.91874232  981.99353123 1002.62923151\n",
      " 1018.87690838 1012.16279044  996.08408274] 0.8906995542135409 343\n"
     ]
    }
   ],
   "source": [
    "print(forecast_set, accuracy, forecast_out)"
   ]
  },
  {
   "cell_type": "code",
   "execution_count": 23,
   "id": "ff824382",
   "metadata": {},
   "outputs": [],
   "source": [
    "last_date = df.iloc[-1].name\n",
    "last_unix = last_date.timestamp()\n",
    "one_day = 86400\n",
    "next_unix = last_unix + one_day"
   ]
  },
  {
   "cell_type": "code",
   "execution_count": 24,
   "id": "d9648e82",
   "metadata": {},
   "outputs": [],
   "source": [
    "for i in forecast_set:\n",
    "    next_date = datetime.datetime.fromtimestamp(next_unix)\n",
    "    next_unix += 86400\n",
    "    df.loc[next_date] = [np.nan for _ in range(len(df.columns)-1)]+[i]"
   ]
  },
  {
   "cell_type": "code",
   "execution_count": 25,
   "id": "f78e9a2b",
   "metadata": {},
   "outputs": [
    {
     "data": {
      "image/png": "[encoded data removed]",
      "text/plain": [
       "<Figure size 432x288 with 1 Axes>"
      ]
     },
     "metadata": {},
     "output_type": "display_data"
    }
   ],
   "source": [
    "df['Adj. Close'].plot()\n",
    "df['Forecast'].plot()\n",
    "plt.legend(loc=4)\n",
    "plt.xlabel('Date')\n",
    "plt.ylabel('Price')\n",
    "plt.show()"
   ]
  },
  {
   "cell_type": "code",
   "execution_count": null,
   "id": "521af2b5",
   "metadata": {},
   "outputs": [],
   "source": []
  }
 ],
 "metadata": {
  "kernelspec": {
   "display_name": "Python 3 (ipykernel)",
   "language": "python",
   "name": "python3"
  },
  "language_info": {
   "codemirror_mode": {
    "name": "ipython",
    "version": 3
   },
   "file_extension": ".py",
   "mimetype": "text/x-python",
   "name": "python",
   "nbconvert_exporter": "python",
   "pygments_lexer": "ipython3",
   "version": "3.9.12"
  }
 },
 "nbformat": 4,
 "nbformat_minor": 5
}
