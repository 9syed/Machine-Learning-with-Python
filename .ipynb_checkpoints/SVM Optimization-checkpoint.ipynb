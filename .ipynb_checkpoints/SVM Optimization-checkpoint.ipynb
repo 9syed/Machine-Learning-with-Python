{
 "cells": [
  {
   "cell_type": "code",
   "execution_count": 2,
   "id": "6c2c09fe",
   "metadata": {},
   "outputs": [],
   "source": [
    "import matplotlib.pyplot as plt\n",
    "from matplotlib import style\n",
    "import numpy as np"
   ]
  },
  {
   "cell_type": "code",
   "execution_count": 3,
   "id": "005919d9",
   "metadata": {},
   "outputs": [],
   "source": [
    "style.use('ggplot')"
   ]
  },
  {
   "cell_type": "code",
   "execution_count": null,
   "id": "a99a47e1",
   "metadata": {},
   "outputs": [],
   "source": [
    "class SVM:\n",
    "    def __init__(self, visualization=True):\n",
    "        self.visualization = visualization\n",
    "        self.colors = {1: 'r', -1: 'b'}\n",
    "        if self.visualization:\n",
    "            self.fig = plt.figure()\n",
    "            self.ax = self.fig.add_subplot(1,1,1)\n",
    "            \n",
    "    def fit(self, data):\n",
    "        self.data = data\n",
    "        # { ||w||: [w,b]}\n",
    "        opt_dict = {}\n",
    "        \n",
    "        transforms = [[1,1],\n",
    "                      [-1,1],\n",
    "                      [-1,-1],\n",
    "                      [1,-1]]\n",
    "        \n",
    "        all_data = []\n",
    "        for yi in self.data:\n",
    "            for featureset in self.data[yi]:\n",
    "                for feature in featureset:\n",
    "                    \n",
    "        self.max_feature_value = max(all_data)\n",
    "        self.min_feature_value = min(all_data)\n",
    "        all_data = None\n",
    "        \n",
    "        step_sizes = [self.max_feature_value * 0.1,\n",
    "                      self.min_feature_value * 0.01,\n",
    "                      self.max_feature_value * 0.001]\n",
    "        \n",
    "        b_range_multiple = 5\n",
    "        b_multiple = 5\n",
    "        latest_optimum = self.max_feature_value*10\n",
    "        \n",
    "        for step in step_sizes:\n",
    "            w = np.array([latest_optimum, latest_optimum])\n",
    "            optimized = False\n",
    "            while not optimized:\n",
    "                for b in np.arange(-1*(self.max_feature_value*b_range_multiple),\n",
    "                                  self.max_feature_value*b_range_mulltiple,\n",
    "                                  step*b_range_multiple):\n",
    "\n",
    "                    for transformation in transforms:\n",
    "                        w_t = w*transformation\n",
    "                        found_opt = True\n",
    "                        for i in self.data:\n",
    "                            for xi in self.data[i]:\n",
    "                                yi = i\n",
    "                                if not yi(np.dot(w_t,xi)+b) >= 1\n",
    "                                found_opt = False\n",
    "                        \n",
    "                        if found_opt:\n",
    "                            opt_dict[np.linalg.norm(w_t)] = [w_t,b]\n",
    "                            \n",
    "                    if w[0] < 0:\n",
    "                        optimized = True\n",
    "                        print('Optimized a step')\n",
    "                    else:\n",
    "                        w = w - step\n",
    "                \n",
    "                norms = sorted([n for n in opt_dict])\n",
    "                opt_choice = opt_dict[norms[0]]\n",
    "                self.w = opt_choice[0]\n",
    "                self.b = opt_choice[1]\n",
    "                latest_optimum = opt_choice[0][0]+step*2\n",
    "\n",
    "\n",
    "    def predict(self, features):\n",
    "        # sign( x.w+b )\n",
    "        classification = np.sign(np.dot(np.array(features), self.w)+self.b)\n",
    "        \n",
    "        return classification"
   ]
  },
  {
   "cell_type": "code",
   "execution_count": null,
   "id": "f1f9907f",
   "metadata": {},
   "outputs": [],
   "source": [
    "dict_data = {-1:np.array([[1,7],\n",
    "                          [2,8],\n",
    "                          [3,8],]),\n",
    "             \n",
    "             1:np.array([[5,1],\n",
    "                         [6,-1],\n",
    "                         [7,3],])}"
   ]
  },
  {
   "cell_type": "code",
   "execution_count": null,
   "id": "a228d3b2",
   "metadata": {},
   "outputs": [],
   "source": []
  }
 ],
 "metadata": {
  "kernelspec": {
   "display_name": "Python 3 (ipykernel)",
   "language": "python",
   "name": "python3"
  },
  "language_info": {
   "codemirror_mode": {
    "name": "ipython",
    "version": 3
   },
   "file_extension": ".py",
   "mimetype": "text/x-python",
   "name": "python",
   "nbconvert_exporter": "python",
   "pygments_lexer": "ipython3",
   "version": "3.9.12"
  }
 },
 "nbformat": 4,
 "nbformat_minor": 5
}
