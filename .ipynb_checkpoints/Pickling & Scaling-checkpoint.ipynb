{
 "cells": [
  {
   "cell_type": "code",
   "execution_count": 14,
   "id": "79d062b1",
   "metadata": {},
   "outputs": [],
   "source": [
    "import pandas as pd\n",
    "import quandl, math, datetime\n",
    "import numpy as np\n",
    "import matplotlib.pyplot as plt\n",
    "from matplotlib import style\n",
    "import pickle"
   ]
  },
  {
   "cell_type": "code",
   "execution_count": 15,
   "id": "50e1ff70",
   "metadata": {},
   "outputs": [],
   "source": [
    "from sklearn.model_selection import train_test_split\n",
    "from sklearn import preprocessing, svm\n",
    "from sklearn.linear_model import LinearRegression"
   ]
  },
  {
   "cell_type": "code",
   "execution_count": 16,
   "id": "fcf3a907",
   "metadata": {},
   "outputs": [],
   "source": [
    "style.use('ggplot')"
   ]
  },
  {
   "cell_type": "code",
   "execution_count": 17,
   "id": "534977d8",
   "metadata": {},
   "outputs": [],
   "source": [
    "df = quandl.get(\"WIKI/GOOGL\")"
   ]
  },
  {
   "cell_type": "code",
   "execution_count": 5,
   "id": "7f294dea",
   "metadata": {
    "scrolled": false
   },
   "outputs": [
    {
     "name": "stdout",
     "output_type": "stream",
     "text": [
      "              Open    High     Low    Close      Volume  Ex-Dividend  \\\n",
      "Date                                                                   \n",
      "2004-08-19  100.01  104.06   95.96  100.335  44659000.0          0.0   \n",
      "2004-08-20  101.01  109.08  100.50  108.310  22834300.0          0.0   \n",
      "2004-08-23  110.76  113.48  109.05  109.400  18256100.0          0.0   \n",
      "2004-08-24  111.24  111.60  103.57  104.870  15247300.0          0.0   \n",
      "2004-08-25  104.76  108.00  103.88  106.000   9188600.0          0.0   \n",
      "\n",
      "            Split Ratio  Adj. Open  Adj. High   Adj. Low  Adj. Close  \\\n",
      "Date                                                                   \n",
      "2004-08-19          1.0  50.159839  52.191109  48.128568   50.322842   \n",
      "2004-08-20          1.0  50.661387  54.708881  50.405597   54.322689   \n",
      "2004-08-23          1.0  55.551482  56.915693  54.693835   54.869377   \n",
      "2004-08-24          1.0  55.792225  55.972783  51.945350   52.597363   \n",
      "2004-08-25          1.0  52.542193  54.167209  52.100830   53.164113   \n",
      "\n",
      "            Adj. Volume  \n",
      "Date                     \n",
      "2004-08-19   44659000.0  \n",
      "2004-08-20   22834300.0  \n",
      "2004-08-23   18256100.0  \n",
      "2004-08-24   15247300.0  \n",
      "2004-08-25    9188600.0  \n"
     ]
    }
   ],
   "source": [
    "print(df.head())"
   ]
  },
  {
   "cell_type": "code",
   "execution_count": 6,
   "id": "25b6db91",
   "metadata": {},
   "outputs": [],
   "source": [
    "df = df[['Adj. Open',  'Adj. High',  'Adj. Low',  'Adj. Close', 'Adj. Volume']]\n",
    "\n",
    "df['HL_PCT'] = (df['Adj. High'] - df['Adj. Low']) / df['Adj. Close'] * 100.0\n",
    "\n",
    "df['PCT_change'] = (df['Adj. Close'] - df['Adj. Open']) / df['Adj. Open'] * 100.0\n",
    "\n",
    "df = df[['Adj. Close', 'HL_PCT', 'PCT_change', 'Adj. Volume']]"
   ]
  },
  {
   "cell_type": "code",
   "execution_count": 7,
   "id": "95a9fc0c",
   "metadata": {
    "scrolled": false
   },
   "outputs": [
    {
     "name": "stdout",
     "output_type": "stream",
     "text": [
      "            Adj. Close    HL_PCT  PCT_change  Adj. Volume\n",
      "Date                                                     \n",
      "2004-08-19   50.322842  8.072956    0.324968   44659000.0\n",
      "2004-08-20   54.322689  7.921706    7.227007   22834300.0\n",
      "2004-08-23   54.869377  4.049360   -1.227880   18256100.0\n",
      "2004-08-24   52.597363  7.657099   -5.726357   15247300.0\n",
      "2004-08-25   53.164113  3.886792    1.183658    9188600.0\n"
     ]
    }
   ],
   "source": [
    "print(df.head())"
   ]
  },
  {
   "cell_type": "code",
   "execution_count": 8,
   "id": "ccb66c7c",
   "metadata": {},
   "outputs": [],
   "source": [
    "forecast_col = 'Adj. Close'\n",
    "df.fillna(-99999, inplace=True)"
   ]
  },
  {
   "cell_type": "code",
   "execution_count": 9,
   "id": "4384dbcc",
   "metadata": {},
   "outputs": [],
   "source": [
    "forecast_out = int(math.ceil(0.1*len(df)))\n",
    "df['label'] = df[forecast_col].shift(-forecast_out)"
   ]
  },
  {
   "cell_type": "code",
   "execution_count": 10,
   "id": "aa8038a9",
   "metadata": {},
   "outputs": [
    {
     "name": "stderr",
     "output_type": "stream",
     "text": [
      "C:\\Users\\9syed\\AppData\\Local\\Temp\\ipykernel_14088\\3881897463.py:1: FutureWarning: In a future version of pandas all arguments of DataFrame.drop except for the argument 'labels' will be keyword-only.\n",
      "  X = np.array(df.drop(['label'], 1))\n"
     ]
    }
   ],
   "source": [
    "X = np.array(df.drop(['label'], 1))\n",
    "X = preprocessing.scale(X)\n",
    "X = X[:-forecast_out]\n",
    "X_lately = X[-forecast_out:]"
   ]
  },
  {
   "cell_type": "code",
   "execution_count": 11,
   "id": "4aa676bc",
   "metadata": {},
   "outputs": [],
   "source": [
    "df.dropna(inplace=True)\n",
    "y = np.array(df['label'])"
   ]
  },
  {
   "cell_type": "code",
   "execution_count": 12,
   "id": "aa310bf4",
   "metadata": {},
   "outputs": [],
   "source": [
    "X_train, X_test, y_train, y_test = train_test_split(X, y, test_size=0.2)\n",
    "\n",
    "\"\"\"clf = LinearRegression(n_jobs=-1)\n",
    "clf.fit(X_train, y_train)\n",
    "with open('regression.pickle', 'wb') as f:\n",
    "    pickle.dump(clf, f)\n",
    "\n",
    "accuracy = clf.score(X_test, y_test)\"\"\""
   ]
  },
  {
   "cell_type": "code",
   "execution_count": 28,
   "id": "aa120506",
   "metadata": {},
   "outputs": [],
   "source": [
    "pickle_in = open('regression.pickle', 'rb')\n",
    "clf = pickle.load(pickle_in)"
   ]
  },
  {
   "cell_type": "code",
   "execution_count": 25,
   "id": "7f408f44",
   "metadata": {},
   "outputs": [],
   "source": [
    "forecast_set = clf.predict(X_lately)\n",
    "df['Forecast'] = np.nan"
   ]
  },
  {
   "cell_type": "code",
   "execution_count": 26,
   "id": "232ccf70",
   "metadata": {
    "scrolled": false
   },
   "outputs": [
    {
     "name": "stdout",
     "output_type": "stream",
     "text": [
      "[ 696.59380971  681.91625215  682.5238483   699.63049968  726.48536906\n",
      "  741.16792957  734.91256331  761.94457188  881.52397348  872.30020486\n",
      "  881.49489524  880.38395287  856.98992302  832.25856398  831.94623466\n",
      "  830.032305    832.0140028   841.264686    824.5164268   835.63823929\n",
      "  829.62491974  850.41437034  845.2860852   835.42877769  834.76264296\n",
      "  870.90323637  871.79926943  863.83800393  866.29968618  874.200209\n",
      "  865.84844344  874.1380315   861.16743299  822.97485909  812.89561364\n",
      "  790.59145893  847.21495841  849.16675922  831.79678317  821.20338065\n",
      "  799.86882843  815.63780796  807.56928924  789.75335746  812.06681762\n",
      "  814.33354165  822.66168461  822.78954869  817.65836831  841.4545116\n",
      "  833.69797302  849.86635717  828.86213353  839.3160135   823.65204448\n",
      "  821.65980113  827.94267684  811.44396093  797.88943255  789.50227205\n",
      "  801.76072606  810.20193743  839.67167558  850.91684665  848.84906497\n",
      "  850.21743443  844.43894516  845.65049629  851.71148288  863.14803041\n",
      "  855.95974553  870.3607483   871.01770494  878.16965449  864.33776725\n",
      "  847.33411512  859.05331753  915.79334537  921.34409078  921.20195373\n",
      "  924.72918043  936.07482318  924.26345352  943.40495332  939.83199324\n",
      "  947.80763361  952.66087877  953.74501588  949.45778891  953.07709122\n",
      "  958.8728526   948.47314572  931.4247195   946.68018103  935.85677286\n",
      "  956.40809715  950.35537923  977.26972108  973.15298092  969.84171431\n",
      "  962.2705395   966.76900213  958.94313076  989.64696743  978.80211153\n",
      "  970.85500873  981.58588604  971.65037365  976.99978042  965.48095705\n",
      "  953.78063721  940.03783367  969.15997824  956.97702964  983.70777492\n",
      "  966.06108552  952.55341974  955.52149576  961.31688789  966.71280651\n",
      "  957.44056423  985.051547    996.9229703   989.94550587  975.47856525\n",
      "  954.0827195   956.90026018  957.881351    935.54845545  924.14243939\n",
      "  923.41964972  936.15881     921.01902322  936.40282007  900.12290711\n",
      "  906.22144005  923.41160689  924.42142766  933.31568802  927.02534254\n",
      "  922.76912982  908.99494322  945.9226489   961.60059407  967.15835936\n",
      "  987.03179844  966.98201598  921.58135302  892.03351998  892.82130375\n",
      "  896.62880871  892.28017781  895.10172664  890.2515438   902.52082001\n",
      "  923.66032193  907.23866338  907.50931972  915.84982354  903.65939331\n",
      "  912.65586275  920.20630676  912.10918636  902.57448151  941.63346974\n",
      "  927.39001092  918.3284795   914.94448472  902.33872349  901.92656045\n",
      "  913.68673525  921.09019868  933.35055863  941.91246887  942.09489549\n",
      "  952.4516291   949.27260124  946.22290853  958.05516529  951.70027095\n",
      "  949.69368879  944.9146044   942.43018982  967.35944982  962.87515852\n",
      "  957.0100506   969.44536459  959.94673358  949.79226806  965.65033183\n",
      "  954.69575105  953.5496245   949.58387133  961.5705131   968.64445729\n",
      "  969.77914267  975.24684102  988.35997537  979.50673871  970.0380445\n",
      "  975.91644716  930.53244069  930.72257026  919.99613682  910.11660965\n",
      "  895.66552607  886.68611558  896.39670816  885.96930281  894.30319113\n",
      "  896.01405465  913.92841332  915.6462009   926.82391269  918.60080703\n",
      "  914.68730494  908.35683902  919.51722554  909.50354425  906.73978084\n",
      "  898.17442115  908.34396225  898.00865583  924.05767908  924.33645129\n",
      "  923.61299741  939.11200398  937.3899654   937.27742693  933.82858715\n",
      "  921.59514358  916.0211138   914.66192546  930.8902588   930.67863781\n",
      "  919.46050563  918.47196797  920.3748769   915.98340054  912.05547114\n",
      "  889.19500432  886.28794015  890.81229819  890.77666944  901.04131433\n",
      "  866.00607424  855.30885294  866.54112234  870.35685081  882.66861577\n",
      "  891.37643595  884.68739953  894.2947067   888.17410155  901.61568526\n",
      "  913.51090966  918.1695202   913.06075372  920.61007306  920.02697759\n",
      "  951.92009463  943.95523864  947.7073223   944.24606329  950.58370553\n",
      "  947.47808221  948.1057789   954.70644425  958.1294805   990.8948234\n",
      " 1011.88820087 1000.87742237  998.99337898  996.92056769 1010.83750632\n",
      " 1006.40288432 1011.37854401 1009.79864564 1011.29802771 1007.4833544\n",
      " 1008.54537325 1002.41755024 1009.54275958 1003.88856144  998.54018063\n",
      "  995.80468319  995.18670593  993.07765001  990.32023453  994.50685928\n",
      "  997.02391124  991.84173007  986.49329144  989.69462235  994.62521011\n",
      " 1016.38415447 1010.61248268 1004.44271641  990.03183639 1006.35024971\n",
      "  989.10500839  990.32849606 1008.217161    996.18055604  997.1988776\n",
      "  998.8621965  1009.07637929 1023.29115446 1017.1597408  1005.19698296\n",
      " 1017.62853986 1013.6231558  1007.8510472  1005.08552636 1001.04824043\n",
      " 1003.90785286 1002.5436201  1004.21365818 1002.85538538 1024.22293825\n",
      " 1015.63339027 1014.84990212 1006.18557838 1006.90360559 1011.25918468\n",
      " 1032.5127905  1033.84138358 1027.59460469 1029.64668859 1046.30648497\n",
      " 1039.02561858 1030.19890498 1023.60034081 1031.60822038 1016.56636048\n",
      " 1012.18352458  994.78600015  980.82822165  984.8237165  1006.51820644\n",
      " 1022.14054138 1014.92538566  995.23298289] 0.8893001715470019 343\n"
     ]
    }
   ],
   "source": [
    "print(forecast_set, accuracy, forecast_out)"
   ]
  },
  {
   "cell_type": "code",
   "execution_count": 21,
   "id": "ff824382",
   "metadata": {},
   "outputs": [],
   "source": [
    "last_date = df.iloc[-1].name\n",
    "last_unix = last_date.timestamp()\n",
    "one_day = 86400\n",
    "next_unix = last_unix + one_day"
   ]
  },
  {
   "cell_type": "code",
   "execution_count": 22,
   "id": "d9648e82",
   "metadata": {},
   "outputs": [],
   "source": [
    "for i in forecast_set:\n",
    "    next_date = datetime.datetime.fromtimestamp(next_unix)\n",
    "    next_unix += 86400\n",
    "    df.loc[next_date] = [np.nan for _ in range(len(df.columns)-1)]+[i]"
   ]
  },
  {
   "cell_type": "code",
   "execution_count": 23,
   "id": "f78e9a2b",
   "metadata": {},
   "outputs": [
    {
     "data": {
      "image/png": "[encoded data removed]",
      "text/plain": [
       "<Figure size 432x288 with 1 Axes>"
      ]
     },
     "metadata": {},
     "output_type": "display_data"
    }
   ],
   "source": [
    "df['Adj. Close'].plot()\n",
    "df['Forecast'].plot()\n",
    "plt.legend(loc=4)\n",
    "plt.xlabel('Date')\n",
    "plt.ylabel('Price')\n",
    "plt.show()"
   ]
  }
 ],
 "metadata": {
  "kernelspec": {
   "display_name": "Python 3 (ipykernel)",
   "language": "python",
   "name": "python3"
  },
  "language_info": {
   "codemirror_mode": {
    "name": "ipython",
    "version": 3
   },
   "file_extension": ".py",
   "mimetype": "text/x-python",
   "name": "python",
   "nbconvert_exporter": "python",
   "pygments_lexer": "ipython3",
   "version": "3.9.12"
  }
 },
 "nbformat": 4,
 "nbformat_minor": 5
}
