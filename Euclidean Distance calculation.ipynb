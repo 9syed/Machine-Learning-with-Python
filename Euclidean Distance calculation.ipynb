{
 "cells": [
  {
   "cell_type": "code",
   "execution_count": 1,
   "id": "dc49146e",
   "metadata": {},
   "outputs": [],
   "source": [
    "from math import sqrt"
   ]
  },
  {
   "cell_type": "code",
   "execution_count": 2,
   "id": "1723ff75",
   "metadata": {},
   "outputs": [],
   "source": [
    "p = [1, 3]\n",
    "q = [2, 5]"
   ]
  },
  {
   "cell_type": "code",
   "execution_count": 3,
   "id": "681fe497",
   "metadata": {},
   "outputs": [
    {
     "name": "stdout",
     "output_type": "stream",
     "text": [
      "2.23606797749979\n"
     ]
    }
   ],
   "source": [
    "eculidean_distance = sqrt( (p[0]-q[0])**2 + (p[1]-q[1])**2 )\n",
    "print(eculidean_distance)"
   ]
  },
  {
   "cell_type": "code",
   "execution_count": null,
   "id": "113a6208",
   "metadata": {},
   "outputs": [],
   "source": []
  }
 ],
 "metadata": {
  "kernelspec": {
   "display_name": "Python 3 (ipykernel)",
   "language": "python",
   "name": "python3"
  },
  "language_info": {
   "codemirror_mode": {
    "name": "ipython",
    "version": 3
   },
   "file_extension": ".py",
   "mimetype": "text/x-python",
   "name": "python",
   "nbconvert_exporter": "python",
   "pygments_lexer": "ipython3",
   "version": "3.9.12"
  }
 },
 "nbformat": 4,
 "nbformat_minor": 5
}
